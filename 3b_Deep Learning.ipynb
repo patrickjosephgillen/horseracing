{
 "cells": [
  {
   "attachments": {},
   "cell_type": "markdown",
   "metadata": {},
   "source": [
    "This idea of this notebook is to create a first (simple) DL model using all the same features used in the multinomial logit model.\n",
    "\n",
    "Much inspiration was derived from https://towardsdatascience.com/use-machine-learning-to-predict-horse-racing-4f1111fb6ced."
   ]
  },
  {
   "cell_type": "code",
   "execution_count": 1,
   "metadata": {},
   "outputs": [
    {
     "name": "stdout",
     "output_type": "stream",
     "text": [
      "Using cpu device\n"
     ]
    }
   ],
   "source": [
    "import math\n",
    "from importlib import reload\n",
    "import deeplearninglib\n",
    "reload(deeplearninglib)\n",
    "from deeplearninglib import *\n",
    "\n",
    "import wandb\n",
    "\n",
    "# device = \"cuda\" if torch.cuda.is_available() else \"cpu\"\n",
    "device = \"cpu\"\n",
    "print(f\"Using {device} device\")"
   ]
  },
  {
   "cell_type": "code",
   "execution_count": 2,
   "metadata": {},
   "outputs": [],
   "source": [
    "# select model to train\n",
    "\n",
    "model_inventory = {'mktprob': {'X_columns': [\"mkt_prob\"],\n",
    "                               'learning_rate': 10e-1,\n",
    "                               'epochs': 50,\n",
    "                               'vacant_stall_indicator': False,\n",
    "                               'bias': True,\n",
    "                               'model_architecture': LinSig},\n",
    "                   'mktprob_soft': {'X_columns': [\"mkt_prob\"],\n",
    "                               'learning_rate': 10e-1,\n",
    "                               'epochs': 50,\n",
    "                               'vacant_stall_indicator': False,\n",
    "                               'bias': True,\n",
    "                               'model_architecture': LinSoft},\n",
    "                    'mktprob_MLR': {'X_columns': [\"mkt_prob\"],\n",
    "                               'learning_rate': 10e-1,\n",
    "                               'epochs': 50,\n",
    "                               'vacant_stall_indicator': False,\n",
    "                               'bias': True,\n",
    "                               'model_architecture': MLR},\n",
    "                   'AlunOwen_v0': {'X_columns': [\"age\", \"sire_sr\", \"dam_sr\", \"trainer_sr\", \"daysLTO\", \"position1_1\", \"position1_2\", \"position1_3\", \"position1_4\", \"position2_1\", \"position2_2\", \"position2_3\", \"position2_4\", \"position3_1\", \"position3_2\", \"position3_3\", \"position3_4\", \"entire\", \"gelding\", \"blinkers\", \"visor\", \"cheekpieces\", \"tonguetie\"],\n",
    "                                   'learning_rate': 10e-3,\n",
    "                                   'epochs': 100,\n",
    "                                   'vacant_stall_indicator': False,\n",
    "                                   'bias': True,\n",
    "                                   'model_architecture': LinSig},\n",
    "                   'AlunOwen_v1': {'X_columns': [\"age\", \"trainer_sr\", \"daysLTO\", \"position1_1\", \"position1_2\", \"position1_3\", \"position1_4\", \"position2_1\", \"position2_2\", \"position2_3\", \"position2_4\", \"position3_1\", \"position3_2\", \"position3_3\", \"position3_4\", \"entire\", \"gelding\", \"blinkers\", \"visor\", \"cheekpieces\", \"tonguetie\"],\n",
    "                                   'learning_rate': 10e-3,\n",
    "                                   'epochs': 100,\n",
    "                                   'vacant_stall_indicator': False,\n",
    "                                   'bias': True,\n",
    "                                   'model_architecture': LinSig},\n",
    "                   'AlunOwen_v2': {'X_columns': [\"age\", \"trainer_sr\", \"daysLTO\", \"position1_1\", \"position1_2\", \"position1_3\", \"position1_4\", \"position2_1\", \"position2_2\", \"position2_3\", \"position2_4\", \"position3_1\", \"position3_2\", \"position3_3\", \"position3_4\", \"entire\", \"gelding\", \"blinkers\", \"visor\", \"cheekpieces\", \"tonguetie\"],\n",
    "                                   'learning_rate': 10e-3,\n",
    "                                   'epochs': 100,\n",
    "                                   'vacant_stall_indicator': False,\n",
    "                                   'bias': True,\n",
    "                                   'model_architecture': LinDropReluLinSoft},\n",
    "                   'AlunOwen_v3': {'X_columns': [\"age\", \"trainer_sr\", \"daysLTO\", \"position1_1\", \"position1_2\", \"position1_3\", \"position1_4\", \"position2_1\", \"position2_2\", \"position2_3\", \"position2_4\", \"position3_1\", \"position3_2\", \"position3_3\", \"position3_4\", \"entire\", \"gelding\", \"blinkers\", \"visor\", \"cheekpieces\", \"tonguetie\"],\n",
    "                                   'learning_rate': 10e-3,\n",
    "                                   'epochs': 100,\n",
    "                                   'vacant_stall_indicator': False,\n",
    "                                   'bias': False,\n",
    "                                   'model_architecture': MLR}\n",
    "                               }\n",
    "\n",
    "model = 'mktprob_MLR'\n",
    "X_columns = model_inventory[model]['X_columns']\n",
    "learning_rate = model_inventory[model]['learning_rate']\n",
    "epochs = model_inventory[model]['epochs']\n",
    "vacant_stall_indicator = model_inventory[model]['vacant_stall_indicator']\n",
    "bias = model_inventory[model]['bias']\n",
    "model_architecture = model_inventory[model]['model_architecture']"
   ]
  },
  {
   "cell_type": "code",
   "execution_count": 3,
   "metadata": {},
   "outputs": [],
   "source": [
    "# read in data\n",
    "\n",
    "y_columns = [\"win\"]\n",
    "\n",
    "train_data_fn = \"data\\\\runners_train.csv\"\n",
    "test_data_fn = \"data\\\\runners_test.csv\"\n",
    "\n",
    "train_data = RacesDataset(train_data_fn, X_columns, y_columns, vacant_stall_indicator=vacant_stall_indicator)\n",
    "test_data = RacesDataset(test_data_fn, X_columns, y_columns, vacant_stall_indicator=vacant_stall_indicator, scalar=train_data.scalar)\n",
    "\n",
    "train_dataloader = DataLoader(train_data, batch_size=64)\n",
    "test_dataloader = DataLoader(test_data, batch_size=64)"
   ]
  },
  {
   "cell_type": "code",
   "execution_count": 4,
   "metadata": {},
   "outputs": [
    {
     "data": {
      "text/html": [
       "<div>\n",
       "<style scoped>\n",
       "    .dataframe tbody tr th:only-of-type {\n",
       "        vertical-align: middle;\n",
       "    }\n",
       "\n",
       "    .dataframe tbody tr th {\n",
       "        vertical-align: top;\n",
       "    }\n",
       "\n",
       "    .dataframe thead tr th {\n",
       "        text-align: left;\n",
       "    }\n",
       "\n",
       "    .dataframe thead tr:last-of-type th {\n",
       "        text-align: right;\n",
       "    }\n",
       "</style>\n",
       "<table border=\"1\" class=\"dataframe\">\n",
       "  <thead>\n",
       "    <tr>\n",
       "      <th></th>\n",
       "      <th colspan=\"16\" halign=\"left\">mkt_prob</th>\n",
       "    </tr>\n",
       "    <tr>\n",
       "      <th>stall_number</th>\n",
       "      <th>1</th>\n",
       "      <th>2</th>\n",
       "      <th>3</th>\n",
       "      <th>4</th>\n",
       "      <th>5</th>\n",
       "      <th>6</th>\n",
       "      <th>7</th>\n",
       "      <th>8</th>\n",
       "      <th>9</th>\n",
       "      <th>10</th>\n",
       "      <th>11</th>\n",
       "      <th>12</th>\n",
       "      <th>13</th>\n",
       "      <th>14</th>\n",
       "      <th>15</th>\n",
       "      <th>16</th>\n",
       "    </tr>\n",
       "    <tr>\n",
       "      <th>race_id</th>\n",
       "      <th></th>\n",
       "      <th></th>\n",
       "      <th></th>\n",
       "      <th></th>\n",
       "      <th></th>\n",
       "      <th></th>\n",
       "      <th></th>\n",
       "      <th></th>\n",
       "      <th></th>\n",
       "      <th></th>\n",
       "      <th></th>\n",
       "      <th></th>\n",
       "      <th></th>\n",
       "      <th></th>\n",
       "      <th></th>\n",
       "      <th></th>\n",
       "    </tr>\n",
       "  </thead>\n",
       "  <tbody>\n",
       "    <tr>\n",
       "      <th>11504</th>\n",
       "      <td>0.100000</td>\n",
       "      <td>0.038462</td>\n",
       "      <td>0.125000</td>\n",
       "      <td>0.058824</td>\n",
       "      <td>0.142857</td>\n",
       "      <td>0.053763</td>\n",
       "      <td>0.090909</td>\n",
       "      <td>0.125000</td>\n",
       "      <td>0.000000</td>\n",
       "      <td>0.000000</td>\n",
       "      <td>0.000000</td>\n",
       "      <td>0.0</td>\n",
       "      <td>0.0</td>\n",
       "      <td>0.0</td>\n",
       "      <td>0.0</td>\n",
       "      <td>0.0</td>\n",
       "    </tr>\n",
       "    <tr>\n",
       "      <th>11505</th>\n",
       "      <td>0.019608</td>\n",
       "      <td>0.029412</td>\n",
       "      <td>0.142857</td>\n",
       "      <td>0.038462</td>\n",
       "      <td>0.400000</td>\n",
       "      <td>0.058824</td>\n",
       "      <td>0.053763</td>\n",
       "      <td>0.142857</td>\n",
       "      <td>0.029412</td>\n",
       "      <td>0.222222</td>\n",
       "      <td>0.153846</td>\n",
       "      <td>0.0</td>\n",
       "      <td>0.0</td>\n",
       "      <td>0.0</td>\n",
       "      <td>0.0</td>\n",
       "      <td>0.0</td>\n",
       "    </tr>\n",
       "    <tr>\n",
       "      <th>11506</th>\n",
       "      <td>0.266667</td>\n",
       "      <td>0.038462</td>\n",
       "      <td>0.014925</td>\n",
       "      <td>0.058824</td>\n",
       "      <td>0.181818</td>\n",
       "      <td>0.038462</td>\n",
       "      <td>0.111111</td>\n",
       "      <td>0.029412</td>\n",
       "      <td>0.111111</td>\n",
       "      <td>0.307692</td>\n",
       "      <td>0.000000</td>\n",
       "      <td>0.0</td>\n",
       "      <td>0.0</td>\n",
       "      <td>0.0</td>\n",
       "      <td>0.0</td>\n",
       "      <td>0.0</td>\n",
       "    </tr>\n",
       "    <tr>\n",
       "      <th>11507</th>\n",
       "      <td>0.076923</td>\n",
       "      <td>0.058824</td>\n",
       "      <td>0.019608</td>\n",
       "      <td>0.222222</td>\n",
       "      <td>0.444444</td>\n",
       "      <td>0.029412</td>\n",
       "      <td>0.125000</td>\n",
       "      <td>0.153846</td>\n",
       "      <td>0.066667</td>\n",
       "      <td>0.000000</td>\n",
       "      <td>0.000000</td>\n",
       "      <td>0.0</td>\n",
       "      <td>0.0</td>\n",
       "      <td>0.0</td>\n",
       "      <td>0.0</td>\n",
       "      <td>0.0</td>\n",
       "    </tr>\n",
       "    <tr>\n",
       "      <th>11508</th>\n",
       "      <td>0.038462</td>\n",
       "      <td>0.038462</td>\n",
       "      <td>0.133333</td>\n",
       "      <td>0.047619</td>\n",
       "      <td>0.230947</td>\n",
       "      <td>0.200000</td>\n",
       "      <td>0.058824</td>\n",
       "      <td>0.181818</td>\n",
       "      <td>0.250000</td>\n",
       "      <td>0.000000</td>\n",
       "      <td>0.000000</td>\n",
       "      <td>0.0</td>\n",
       "      <td>0.0</td>\n",
       "      <td>0.0</td>\n",
       "      <td>0.0</td>\n",
       "      <td>0.0</td>\n",
       "    </tr>\n",
       "  </tbody>\n",
       "</table>\n",
       "</div>"
      ],
      "text/plain": [
       "              mkt_prob                                                    \\\n",
       "stall_number        1         2         3         4         5         6    \n",
       "race_id                                                                    \n",
       "11504         0.100000  0.038462  0.125000  0.058824  0.142857  0.053763   \n",
       "11505         0.019608  0.029412  0.142857  0.038462  0.400000  0.058824   \n",
       "11506         0.266667  0.038462  0.014925  0.058824  0.181818  0.038462   \n",
       "11507         0.076923  0.058824  0.019608  0.222222  0.444444  0.029412   \n",
       "11508         0.038462  0.038462  0.133333  0.047619  0.230947  0.200000   \n",
       "\n",
       "                                                                               \\\n",
       "stall_number        7         8         9         10        11   12   13   14   \n",
       "race_id                                                                         \n",
       "11504         0.090909  0.125000  0.000000  0.000000  0.000000  0.0  0.0  0.0   \n",
       "11505         0.053763  0.142857  0.029412  0.222222  0.153846  0.0  0.0  0.0   \n",
       "11506         0.111111  0.029412  0.111111  0.307692  0.000000  0.0  0.0  0.0   \n",
       "11507         0.125000  0.153846  0.066667  0.000000  0.000000  0.0  0.0  0.0   \n",
       "11508         0.058824  0.181818  0.250000  0.000000  0.000000  0.0  0.0  0.0   \n",
       "\n",
       "                        \n",
       "stall_number   15   16  \n",
       "race_id                 \n",
       "11504         0.0  0.0  \n",
       "11505         0.0  0.0  \n",
       "11506         0.0  0.0  \n",
       "11507         0.0  0.0  \n",
       "11508         0.0  0.0  "
      ]
     },
     "execution_count": 4,
     "metadata": {},
     "output_type": "execute_result"
    }
   ],
   "source": [
    "pd.options.display.max_columns = 1000 # was 20\n",
    "train_data.races.iloc[:, train_data.X_columns].head()"
   ]
  },
  {
   "cell_type": "code",
   "execution_count": 5,
   "metadata": {},
   "outputs": [
    {
     "name": "stdout",
     "output_type": "stream",
     "text": [
      "Model structure: mktprob_MLR\n",
      "Layer: neural_network.0.weights | Size: torch.Size([1]) | Values : Parameter containing:\n",
      "tensor([-0.3563], requires_grad=True) \n",
      "\n"
     ]
    }
   ],
   "source": [
    "# build the neural network\n",
    "\n",
    "output_layer_nodes = train_data.y.shape[1]\n",
    "input_layer_nodes = train_data.X.shape[1]\n",
    "\n",
    "# torch.manual_seed(0)\n",
    "net = model_architecture(input_layer_nodes, output_layer_nodes, bias=bias).to(device) # linear-relu-linear-softwax nn (1 hidden layer)\n",
    "print(f\"Model structure: {model}\")\n",
    "\n",
    "for name, param in net.named_parameters():\n",
    "    print(f\"Layer: {name} | Size: {param.size()} | Values : {param} \\n\")"
   ]
  },
  {
   "cell_type": "code",
   "execution_count": 6,
   "metadata": {},
   "outputs": [
    {
     "name": "stdout",
     "output_type": "stream",
     "text": [
      "Predicted class: tensor([10])\n",
      "torch.Size([1, 16])\n"
     ]
    }
   ],
   "source": [
    "# example to show how model is used from prediction\n",
    "\n",
    "X = torch.rand(1, input_layer_nodes, device=device)\n",
    "logits = net(X)\n",
    "y_pred = logits.argmax(1)\n",
    "print(f\"Predicted class: {y_pred}\")\n",
    "print(X.shape)"
   ]
  },
  {
   "cell_type": "code",
   "execution_count": 7,
   "metadata": {},
   "outputs": [
    {
     "name": "stdout",
     "output_type": "stream",
     "text": [
      "env: WANDB_NOTEBOOK_NAME='C:\\Users\\gille\\OneDrive\\1-Projects\\_Horse Racing 2H22\\New Framework\\3b_Deep Learning.ipynb'\n"
     ]
    },
    {
     "name": "stderr",
     "output_type": "stream",
     "text": [
      "\u001b[34m\u001b[1mwandb\u001b[0m: \u001b[33mWARNING\u001b[0m WANDB_NOTEBOOK_NAME should be a path to a notebook file, couldn't find 'C:\\Users\\gille\\OneDrive\\1-Projects\\_Horse Racing 2H22\\New Framework\\3b_Deep Learning.ipynb'.\n",
      "\u001b[34m\u001b[1mwandb\u001b[0m: Currently logged in as: \u001b[33mgillenpj\u001b[0m. Use \u001b[1m`wandb login --relogin`\u001b[0m to force relogin\n"
     ]
    },
    {
     "data": {
      "text/html": [
       "Tracking run with wandb version 0.15.0"
      ],
      "text/plain": [
       "<IPython.core.display.HTML object>"
      ]
     },
     "metadata": {},
     "output_type": "display_data"
    },
    {
     "data": {
      "text/html": [
       "Run data is saved locally in <code>c:\\Users\\gille\\OneDrive\\1-Projects\\_Horse Racing 2H22\\New Framework\\wandb\\run-20230425_145533-bxqaygyx</code>"
      ],
      "text/plain": [
       "<IPython.core.display.HTML object>"
      ]
     },
     "metadata": {},
     "output_type": "display_data"
    },
    {
     "data": {
      "text/html": [
       "Syncing run <strong><a href='https://wandb.ai/gillenpj/horse-racing-project/runs/bxqaygyx' target=\"_blank\">bumbling-jazz-143</a></strong> to <a href='https://wandb.ai/gillenpj/horse-racing-project' target=\"_blank\">Weights & Biases</a> (<a href='https://wandb.me/run' target=\"_blank\">docs</a>)<br/>"
      ],
      "text/plain": [
       "<IPython.core.display.HTML object>"
      ]
     },
     "metadata": {},
     "output_type": "display_data"
    },
    {
     "data": {
      "text/html": [
       " View project at <a href='https://wandb.ai/gillenpj/horse-racing-project' target=\"_blank\">https://wandb.ai/gillenpj/horse-racing-project</a>"
      ],
      "text/plain": [
       "<IPython.core.display.HTML object>"
      ]
     },
     "metadata": {},
     "output_type": "display_data"
    },
    {
     "data": {
      "text/html": [
       " View run at <a href='https://wandb.ai/gillenpj/horse-racing-project/runs/bxqaygyx' target=\"_blank\">https://wandb.ai/gillenpj/horse-racing-project/runs/bxqaygyx</a>"
      ],
      "text/plain": [
       "<IPython.core.display.HTML object>"
      ]
     },
     "metadata": {},
     "output_type": "display_data"
    },
    {
     "data": {
      "text/html": [
       "<button onClick=\"this.nextSibling.style.display='block';this.style.display='none';\">Display W&B run</button><iframe src='https://wandb.ai/gillenpj/horse-racing-project/runs/bxqaygyx?jupyter=true' style='border:none;width:100%;height:420px;display:none;'></iframe>"
      ],
      "text/plain": [
       "<wandb.sdk.wandb_run.Run at 0x1394b179c90>"
      ]
     },
     "execution_count": 7,
     "metadata": {},
     "output_type": "execute_result"
    }
   ],
   "source": [
    "%env WANDB_NOTEBOOK_NAME 'C:\\Users\\gille\\OneDrive\\1-Projects\\_Horse Racing 2H22\\New Framework\\3b_Deep Learning.ipynb'\n",
    "\n",
    "# start a new wandb run to track this script\n",
    "wandb.init(\n",
    "    # set the wandb project where this run will be logged\n",
    "    project=\"horse-racing-project\",\n",
    "    \n",
    "    # track hyperparameters and run metadata\n",
    "    config={\n",
    "    \"device\": device,\n",
    "    \"model\": model,\n",
    "    \"X_columns\": X_columns,\n",
    "    \"learning_rate\": learning_rate,\n",
    "    \"epochs\": epochs,\n",
    "    \"vacant_stall_indicator\": vacant_stall_indicator,\n",
    "    \"bias\": bias,\n",
    "    \"model_architecture\": list(net.modules())\n",
    "    }\n",
    ")"
   ]
  },
  {
   "cell_type": "code",
   "execution_count": 8,
   "metadata": {},
   "outputs": [
    {
     "name": "stdout",
     "output_type": "stream",
     "text": [
      "Epoch 1\n",
      "-------------------------------\n",
      "loss: 2.788139  [   64/16620]\n",
      "loss: 2.584255  [ 6464/16620]\n",
      "loss: 2.558062  [12864/16620]\n",
      "Test Error: \n",
      " Accuracy: 35.1%, Avg loss: 2.530517 \n",
      "\n",
      "Epoch 2\n",
      "-------------------------------\n",
      "loss: 2.654883  [   64/16620]\n"
     ]
    }
   ],
   "source": [
    "# optimizing model parameters\n",
    "\n",
    "# initialize the loss function\n",
    "loss_fn = nn.CrossEntropyLoss()\n",
    "\n",
    "optimizer = torch.optim.SGD(net.parameters(), lr=learning_rate)\n",
    "\n",
    "for t in range(epochs):\n",
    "    print(f\"Epoch {t+1}\\n-------------------------------\")\n",
    "    train_loop(train_dataloader, net, loss_fn, optimizer, device)\n",
    "    (acc, loss) = test_loop(test_dataloader, net, loss_fn, device)\n",
    "    wandb.log({\"acc\": acc, \"loss\": loss})\n",
    "print(\"Done!\")"
   ]
  },
  {
   "cell_type": "code",
   "execution_count": null,
   "metadata": {},
   "outputs": [
    {
     "data": {
      "text/html": [
       "Waiting for W&B process to finish... <strong style=\"color:green\">(success).</strong>"
      ],
      "text/plain": [
       "<IPython.core.display.HTML object>"
      ]
     },
     "metadata": {},
     "output_type": "display_data"
    },
    {
     "data": {
      "application/vnd.jupyter.widget-view+json": {
       "model_id": "54a4af21bd054e03b5839ca2319aab7a",
       "version_major": 2,
       "version_minor": 0
      },
      "text/plain": [
       "VBox(children=(Label(value='0.001 MB of 0.001 MB uploaded (0.000 MB deduped)\\r'), FloatProgress(value=1.0, max…"
      ]
     },
     "metadata": {},
     "output_type": "display_data"
    },
    {
     "data": {
      "text/html": [
       "<style>\n",
       "    table.wandb td:nth-child(1) { padding: 0 10px; text-align: left ; width: auto;} td:nth-child(2) {text-align: left ; width: 100%}\n",
       "    .wandb-row { display: flex; flex-direction: row; flex-wrap: wrap; justify-content: flex-start; width: 100% }\n",
       "    .wandb-col { display: flex; flex-direction: column; flex-basis: 100%; flex: 1; padding: 10px; }\n",
       "    </style>\n",
       "<div class=\"wandb-row\"><div class=\"wandb-col\"><h3>Run history:</h3><br/><table class=\"wandb\"><tr><td>acc</td><td>▁▁▁▁▁▁▁▁▁▁▁▁▁▁▁▁▁▁▁▁▁▁▁▁▁▁▁▁▁▁▁▁▁▁▁▁▁▁▁▁</td></tr><tr><td>loss</td><td>█▄▂▂▂▁▁▁▁▁▁▁▁▁▁▁▁▁▁▁▁▁▁▁▁▁▁▁▁▁▁▁▁▁▁▁▁▁▁▁</td></tr></table><br/></div><div class=\"wandb-col\"><h3>Run summary:</h3><br/><table class=\"wandb\"><tr><td>acc</td><td>0.35149</td></tr><tr><td>loss</td><td>2.52848</td></tr></table><br/></div></div>"
      ],
      "text/plain": [
       "<IPython.core.display.HTML object>"
      ]
     },
     "metadata": {},
     "output_type": "display_data"
    },
    {
     "data": {
      "text/html": [
       " View run <strong style=\"color:#cdcd00\">wise-capybara-141</strong> at: <a href='https://wandb.ai/gillenpj/horse-racing-project/runs/k6ydom6t' target=\"_blank\">https://wandb.ai/gillenpj/horse-racing-project/runs/k6ydom6t</a><br/>Synced 5 W&B file(s), 0 media file(s), 0 artifact file(s) and 0 other file(s)"
      ],
      "text/plain": [
       "<IPython.core.display.HTML object>"
      ]
     },
     "metadata": {},
     "output_type": "display_data"
    },
    {
     "data": {
      "text/html": [
       "Find logs at: <code>.\\wandb\\run-20230425_143915-k6ydom6t\\logs</code>"
      ],
      "text/plain": [
       "<IPython.core.display.HTML object>"
      ]
     },
     "metadata": {},
     "output_type": "display_data"
    }
   ],
   "source": [
    "# finish the wandb run, necessary in notebooks\n",
    "wandb.finish()"
   ]
  },
  {
   "cell_type": "code",
   "execution_count": null,
   "metadata": {},
   "outputs": [],
   "source": [
    "for para_name, para_vals in net.named_parameters():\n",
    "    np.savetxt(para_name + \".csv\", para_vals.data.numpy(), fmt='%6.3f', delimiter=\",\")"
   ]
  }
 ],
 "metadata": {
  "kernelspec": {
   "display_name": "Python 3",
   "language": "python",
   "name": "python3"
  },
  "language_info": {
   "codemirror_mode": {
    "name": "ipython",
    "version": 3
   },
   "file_extension": ".py",
   "mimetype": "text/x-python",
   "name": "python",
   "nbconvert_exporter": "python",
   "pygments_lexer": "ipython3",
   "version": "3.11.2"
  },
  "orig_nbformat": 4,
  "vscode": {
   "interpreter": {
    "hash": "c4ed282fe5a96d451181bcb846a73bf3735bfa0d466ee57d09e22e537eb2d1df"
   }
  }
 },
 "nbformat": 4,
 "nbformat_minor": 2
}
