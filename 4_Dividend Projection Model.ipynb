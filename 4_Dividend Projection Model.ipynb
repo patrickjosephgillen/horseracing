{
 "cells": [
  {
   "attachments": {},
   "cell_type": "markdown",
   "metadata": {},
   "source": [
    "### This scripts takes about 1 1/2 minutes seconds to execute"
   ]
  },
  {
   "cell_type": "code",
   "execution_count": null,
   "metadata": {},
   "outputs": [],
   "source": [
    "from tqdm.notebook import tqdm, trange\n",
    "from importlib import reload\n",
    "import horseracinglib\n",
    "reload(horseracinglib)\n",
    "from horseracinglib import *\n",
    "import pandas as pd\n",
    "from IPython.display import display, HTML\n",
    "pd.options.display.max_columns = None"
   ]
  },
  {
   "attachments": {},
   "cell_type": "markdown",
   "metadata": {},
   "source": [
    "# Load test data (not seen by models) - Legacy MLR/trivial models"
   ]
  },
  {
   "cell_type": "code",
   "execution_count": null,
   "metadata": {},
   "outputs": [],
   "source": [
    "runners = pd.read_csv('data\\\\runners_test.csv', parse_dates=['meeting_date'], infer_datetime_format=True)\n",
    "runners.sort_values(by=['race_id', 'runner_id'], inplace=True)\n",
    "\n",
    "races = pd.read_csv('data\\\\races_test.csv', parse_dates=['meeting_date'], infer_datetime_format=True)\n",
    "races.sort_values(by=['race_id'], inplace=True)\n",
    "\n",
    "runners = runners.merge(races[[\"race_id\", \"course_Kempton\", \"course_Lingfield\", \"course_Southwell\", \"course_Wolverhampton\", \"class_1\", \"class_2\", \"class_3\", \"class_4\", \"class_5\", \"gt1mi\"]], on='race_id', how='left')\n",
    "runners.head()"
   ]
  },
  {
   "cell_type": "code",
   "execution_count": null,
   "metadata": {},
   "outputs": [],
   "source": [
    "runners_single_race = runners[runners.race_id == 500816]\n",
    "runners_single_race"
   ]
  },
  {
   "attachments": {},
   "cell_type": "markdown",
   "metadata": {},
   "source": [
    "# Load test data (not seen by models) - New NN models"
   ]
  },
  {
   "cell_type": "code",
   "execution_count": null,
   "metadata": {},
   "outputs": [],
   "source": [
    "# note, test data is model-specific\n",
    "\n",
    "test_data = torch.load('data\\\\mktprob_test_data.pt')\n",
    "test_data.runners_wide.head()"
   ]
  },
  {
   "cell_type": "code",
   "execution_count": null,
   "metadata": {},
   "outputs": [],
   "source": [
    "test_data.races.head()"
   ]
  },
  {
   "cell_type": "code",
   "execution_count": null,
   "metadata": {},
   "outputs": [],
   "source": [
    "test_data.runners_wide.loc[runners_single_race.race_id.iloc[0], :]"
   ]
  },
  {
   "cell_type": "code",
   "execution_count": null,
   "metadata": {},
   "outputs": [],
   "source": [
    "test_data.races.loc[runners_single_race.race_id.iloc[0], :]"
   ]
  },
  {
   "attachments": {},
   "cell_type": "markdown",
   "metadata": {},
   "source": [
    "# Demonstrate calculating model probabilities for single race - Legacy MLR/trivial models"
   ]
  },
  {
   "cell_type": "code",
   "execution_count": null,
   "metadata": {},
   "outputs": [],
   "source": [
    "AlunOwen_multinomial_logit = MultinomialLogitModel('models\\\\AlunOwen_multinomial_logit_coefficients.csv', model_prefix='AO3')\n",
    "display(AlunOwen_multinomial_logit.model_coefficients)\n",
    "AlunOwen_multinomial_logit.calculate_model_probabilities_for_single_race(runners_single_race)"
   ]
  },
  {
   "cell_type": "code",
   "execution_count": null,
   "metadata": {},
   "outputs": [],
   "source": [
    "MG1_multinomial_logit = MultinomialLogitModel('models\\\\MG1_multinomial_logit_coefficients.csv', model_prefix='MG1')\n",
    "display(MG1_multinomial_logit.model_coefficients)\n",
    "MG1_multinomial_logit.calculate_model_probabilities_for_single_race(runners_single_race)"
   ]
  },
  {
   "cell_type": "code",
   "execution_count": null,
   "metadata": {},
   "outputs": [],
   "source": [
    "Amalgum_multinomial_logit = MultinomialLogitModel('models\\\\Amalgum_multinomial_logit_coefficients.csv', model_prefix='Amalgum')\n",
    "display(Amalgum_multinomial_logit.model_coefficients)\n",
    "Amalgum_multinomial_logit.calculate_model_probabilities_for_single_race(runners_single_race)"
   ]
  },
  {
   "cell_type": "code",
   "execution_count": null,
   "metadata": {},
   "outputs": [],
   "source": [
    "my_random_choice = RandomChoiceModel(model_prefix='RC')\n",
    "my_random_choice.calculate_model_probabilities_for_single_race(runners_single_race)"
   ]
  },
  {
   "cell_type": "code",
   "execution_count": null,
   "metadata": {},
   "outputs": [],
   "source": [
    "my_favourite_choice = FavouriteChoiceModel(model_prefix='FC')\n",
    "my_favourite_choice.calculate_model_probabilities_for_single_race(runners_single_race)"
   ]
  },
  {
   "attachments": {},
   "cell_type": "markdown",
   "metadata": {},
   "source": [
    "# Demonstrate calculating model probabilities for single race - New NN models"
   ]
  },
  {
   "cell_type": "code",
   "execution_count": null,
   "metadata": {},
   "outputs": [],
   "source": [
    "model_inventory = {}\n",
    "for model_prefix, model_filename, test_data_filename in [('MP', 'models\\\\mktprob.pt', 'data\\\\mktprob_test_data.pt'), ('AO3', 'models\\\\AlunOwen_v3.pt', 'data\\\\AlunOwen_v3_test_data.pt')]:\n",
    "    test_data = torch.load(test_data_filename)\n",
    "    model_inventory[model_prefix] = NeuralNetworkModel(model_filename, test_data, model_prefix)\n",
    "    display(model_inventory[model_prefix].model_object)\n",
    "    display(model_inventory[model_prefix].calculate_model_probabilities_for_single_race(runners_single_race))"
   ]
  },
  {
   "attachments": {},
   "cell_type": "markdown",
   "metadata": {},
   "source": [
    "# Demonstrate calculating model probabilities for multiple races"
   ]
  },
  {
   "cell_type": "code",
   "execution_count": null,
   "metadata": {},
   "outputs": [],
   "source": [
    "AlunOwen_multinomial_logit.calculate_model_probabilities_for_multiple_races(runners)\n",
    "AlunOwen_multinomial_logit.model_probabilities.head()"
   ]
  },
  {
   "cell_type": "code",
   "execution_count": null,
   "metadata": {},
   "outputs": [],
   "source": [
    "MG1_multinomial_logit.calculate_model_probabilities_for_multiple_races(runners)\n",
    "MG1_multinomial_logit.model_probabilities.head()"
   ]
  },
  {
   "cell_type": "code",
   "execution_count": null,
   "metadata": {},
   "outputs": [],
   "source": [
    "MG1_multinomial_logit.calculate_model_probabilities_for_multiple_races(runners)\n",
    "MG1_multinomial_logit.model_probabilities.head()"
   ]
  },
  {
   "cell_type": "code",
   "execution_count": null,
   "metadata": {},
   "outputs": [],
   "source": [
    "my_random_choice.calculate_model_probabilities_for_multiple_races(runners)\n",
    "my_random_choice.model_probabilities.head()"
   ]
  },
  {
   "cell_type": "code",
   "execution_count": null,
   "metadata": {},
   "outputs": [],
   "source": [
    "my_favourite_choice.calculate_model_probabilities_for_multiple_races(runners)\n",
    "my_favourite_choice.model_probabilities.head()"
   ]
  },
  {
   "cell_type": "code",
   "execution_count": null,
   "metadata": {},
   "outputs": [],
   "source": [
    "model_inventory['MP'].calculate_model_probabilities_for_multiple_races(runners)\n",
    "model_inventory['MP'].model_probabilities.head()"
   ]
  },
  {
   "cell_type": "code",
   "execution_count": null,
   "metadata": {},
   "outputs": [],
   "source": [
    "model_inventory['AO3'].calculate_model_probabilities_for_multiple_races(runners)\n",
    "model_inventory['AO3'].model_probabilities.head()"
   ]
  },
  {
   "attachments": {},
   "cell_type": "markdown",
   "metadata": {},
   "source": [
    "# Calculate model accuracy"
   ]
  },
  {
   "cell_type": "code",
   "execution_count": null,
   "metadata": {},
   "outputs": [],
   "source": [
    "# All of the following code was written by ChatGPT-4\n",
    "\n",
    "# Create an empty DataFrame\n",
    "df = pd.DataFrame(columns=['Model', 'Accuracy'])\n",
    "\n",
    "for model, model_prefix in [(AlunOwen_multinomial_logit, 'AO3'), \n",
    "                            (MG1_multinomial_logit, 'MG1'),\n",
    "                            (Amalgum_multinomial_logit, 'Amalgum'),\n",
    "                            (my_random_choice, 'RC'), \n",
    "                            (my_favourite_choice, 'FC')]:\n",
    "    accuracy = model.calculate_model_accuracy(runners)\n",
    "    df = pd.concat([df, pd.DataFrame([{'Model': model_prefix, 'Accuracy': f'{accuracy * 100:.1f}%'}])], ignore_index=True)\n",
    "\n",
    "# Display the DataFrame as an HTML table\n",
    "display(HTML(df.to_html(index=False)))"
   ]
  },
  {
   "attachments": {},
   "cell_type": "markdown",
   "metadata": {},
   "source": [
    "# Demonstrate probability model assessment"
   ]
  },
  {
   "cell_type": "code",
   "execution_count": null,
   "metadata": {},
   "outputs": [],
   "source": [
    "my_model_assessment = ProbabilityModelAssessment([AlunOwen_multinomial_logit, MG1_multinomial_logit, Amalgum_multinomial_logit, model_inventory['MP']], runners[['race_id', 'runner_id', 'stall_number', 'win', 'adj_mkt_prob']])\n",
    "display(my_model_assessment.assessment)\n",
    "my_model_assessment.perform_assessment()"
   ]
  },
  {
   "cell_type": "code",
   "execution_count": null,
   "metadata": {},
   "outputs": [],
   "source": [
    "my_model_assessment.show_diagnostic_plots()"
   ]
  },
  {
   "attachments": {},
   "cell_type": "markdown",
   "metadata": {},
   "source": [
    "# Demonstrate calculating wagering strategy payoffs for single race"
   ]
  },
  {
   "cell_type": "code",
   "execution_count": null,
   "metadata": {},
   "outputs": [],
   "source": [
    "def pick_hi_mod_prob(augmented_runners_single_race):\n",
    "    stakes = pd.Series(np.full(len(augmented_runners_single_race), 0, np.float64), index=augmented_runners_single_race.index)\n",
    "    max_mod_prob = np.max(augmented_runners_single_race.mod_prob)\n",
    "    i = augmented_runners_single_race[augmented_runners_single_race.mod_prob == max_mod_prob].index[0]\n",
    "    stakes[i] = 1\n",
    "    return stakes\n",
    "\n",
    "def kelly_criterion_top_two_favourites(augmented_runners_single_race):\n",
    "    stakes = pd.Series(np.full(len(augmented_runners_single_race), 0, np.float64), index=augmented_runners_single_race.index)\n",
    "    sorted_runners = augmented_runners_single_race.sort_values('mod_prob', ascending=False)\n",
    "    top_two_indices = sorted_runners.index[:2]\n",
    "    \n",
    "    for i in top_two_indices:\n",
    "        p = augmented_runners_single_race.loc[i, 'mod_prob']\n",
    "        q = 1 - p\n",
    "        b = (1 / p) - 1  # odds\n",
    "        f = max((b * p - q) / b, 0)  # Kelly Criterion formula, but we don't want to bet negative amounts\n",
    "        stakes[i] = f\n",
    "\n",
    "    return stakes\n",
    "\n",
    "def pick_hi_mod_prob_class_1(augmented_runners_single_race):\n",
    "    stakes = pd.Series(np.full(len(augmented_runners_single_race), 0, np.float64), index=augmented_runners_single_race.index)\n",
    "    max_mod_prob = np.max(augmented_runners_single_race.mod_prob)\n",
    "    i = augmented_runners_single_race[augmented_runners_single_race.mod_prob == max_mod_prob].index[0]\n",
    "    stakes[i] = augmented_runners_single_race.class_1[i]\n",
    "    return stakes\n",
    "\n",
    "def pick_hi_mod_prob_class_2(augmented_runners_single_race):\n",
    "    stakes = pd.Series(np.full(len(augmented_runners_single_race), 0, np.float64), index=augmented_runners_single_race.index)\n",
    "    max_mod_prob = np.max(augmented_runners_single_race.mod_prob)\n",
    "    i = augmented_runners_single_race[augmented_runners_single_race.mod_prob == max_mod_prob].index[0]\n",
    "    stakes[i] = augmented_runners_single_race.class_2[i]\n",
    "    return stakes\n",
    "\n",
    "def pick_hi_mod_prob_class_3(augmented_runners_single_race):\n",
    "    stakes = pd.Series(np.full(len(augmented_runners_single_race), 0, np.float64), index=augmented_runners_single_race.index)\n",
    "    max_mod_prob = np.max(augmented_runners_single_race.mod_prob)\n",
    "    i = augmented_runners_single_race[augmented_runners_single_race.mod_prob == max_mod_prob].index[0]\n",
    "    stakes[i] = augmented_runners_single_race.class_3[i]\n",
    "    return stakes\n",
    "\n",
    "def pick_hi_mod_prob_class_4(augmented_runners_single_race):\n",
    "    stakes = pd.Series(np.full(len(augmented_runners_single_race), 0, np.float64), index=augmented_runners_single_race.index)\n",
    "    max_mod_prob = np.max(augmented_runners_single_race.mod_prob)\n",
    "    i = augmented_runners_single_race[augmented_runners_single_race.mod_prob == max_mod_prob].index[0]\n",
    "    stakes[i] = augmented_runners_single_race.class_4[i]\n",
    "    return stakes\n",
    "\n",
    "def pick_hi_mod_prob_class_5(augmented_runners_single_race):\n",
    "    stakes = pd.Series(np.full(len(augmented_runners_single_race), 0, np.float64), index=augmented_runners_single_race.index)\n",
    "    max_mod_prob = np.max(augmented_runners_single_race.mod_prob)\n",
    "    i = augmented_runners_single_race[augmented_runners_single_race.mod_prob == max_mod_prob].index[0]\n",
    "    stakes[i] = augmented_runners_single_race.class_5[i]\n",
    "    return stakes\n"
   ]
  },
  {
   "cell_type": "code",
   "execution_count": null,
   "metadata": {},
   "outputs": [],
   "source": [
    "# my_1st_strategy = WageringStrategy(my_favourite_choice, pick_hi_mod_prob, 'PickHiModProb')\n",
    "# my_1st_strategy = WageringStrategy(my_favourite_choice, kelly_criterion_top_two_favourites, 'KCTopTwo')\n",
    "# my_1st_strategy = WageringStrategy(my_favourite_choice, pick_hi_mod_prob_class_1, 'PickHiModProbClass1')\n",
    "my_1st_strategy = WageringStrategy(Amalgum_multinomial_logit, pick_hi_mod_prob_class_1, 'PickHiModProbClass1')\n",
    "my_1st_strategy.calculate_strategy_stakes_and_payoffs_for_single_race(runners_single_race)"
   ]
  },
  {
   "cell_type": "code",
   "execution_count": null,
   "metadata": {},
   "outputs": [],
   "source": [
    "# my_2nd_strategy = WageringStrategy(Amalgum_multinomial_logit, pick_hi_mod_prob, 'PickHiModProb')\n",
    "# my_2nd_strategy = WageringStrategy(Amalgum_multinomial_logit, kelly_criterion_top_two_favourites, 'KCTopTwo')\n",
    "# my_2nd_strategy = WageringStrategy(my_favourite_choice, pick_hi_mod_prob_class_2, 'PickHiModProbClass2')\n",
    "my_2nd_strategy = WageringStrategy(Amalgum_multinomial_logit, pick_hi_mod_prob_class_2, 'PickHiModProbClass2')\n",
    "my_2nd_strategy.calculate_strategy_stakes_and_payoffs_for_single_race(runners_single_race)"
   ]
  },
  {
   "cell_type": "code",
   "execution_count": null,
   "metadata": {},
   "outputs": [],
   "source": [
    "# my_3rd_strategy = WageringStrategy(AlunOwen_multinomial_logit, pick_hi_mod_prob, 'PickHiModProb')\n",
    "# my_3rd_strategy = WageringStrategy(AlunOwen_multinomial_logit, kelly_criterion_top_two_favourites, 'KCTopTwo')\n",
    "# my_3rd_strategy = WageringStrategy(my_favourite_choice, pick_hi_mod_prob_class_3, 'PickHiModProbClass3')\n",
    "my_3rd_strategy = WageringStrategy(Amalgum_multinomial_logit, pick_hi_mod_prob_class_3, 'PickHiModProbClass3')\n",
    "my_3rd_strategy.calculate_strategy_stakes_and_payoffs_for_single_race(runners_single_race)"
   ]
  },
  {
   "cell_type": "code",
   "execution_count": null,
   "metadata": {},
   "outputs": [],
   "source": [
    "# my_4th_strategy = WageringStrategy(MG1_multinomial_logit, pick_hi_mod_prob, 'PickHiModProb')\n",
    "# my_4th_strategy = WageringStrategy(MG1_multinomial_logit, kelly_criterion_top_two_favourites, 'KCTopTwo')\n",
    "# my_4th_strategy = WageringStrategy(my_favourite_choice, pick_hi_mod_prob_class_4, 'PickHiModProbClass4')\n",
    "my_4th_strategy = WageringStrategy(Amalgum_multinomial_logit, pick_hi_mod_prob_class_4, 'PickHiModProbClass4')\n",
    "my_4th_strategy.calculate_strategy_stakes_and_payoffs_for_single_race(runners_single_race)"
   ]
  },
  {
   "cell_type": "code",
   "execution_count": null,
   "metadata": {},
   "outputs": [],
   "source": [
    "# my_5th_strategy = WageringStrategy(my_random_choice, pick_hi_mod_prob, 'PickHiModProb')\n",
    "# my_5th_strategy = WageringStrategy(my_random_choice, kelly_criterion_top_two_favourites, 'KCTopTwo')\n",
    "# my_5th_strategy = WageringStrategy(my_favourite_choice, pick_hi_mod_prob_class_5, 'PickHiModProbClass5')\n",
    "my_5th_strategy = WageringStrategy(Amalgum_multinomial_logit, pick_hi_mod_prob_class_5, 'PickHiModProbClass5')\n",
    "my_5th_strategy.calculate_strategy_stakes_and_payoffs_for_single_race(runners_single_race)"
   ]
  },
  {
   "attachments": {},
   "cell_type": "markdown",
   "metadata": {},
   "source": [
    "# Demonstrate calculating wagering strategy payoffs for multiple races"
   ]
  },
  {
   "cell_type": "code",
   "execution_count": null,
   "metadata": {},
   "outputs": [],
   "source": [
    "my_1st_strategy.calculate_strategy_stakes_and_payoffs_for_multiple_races(runners)\n",
    "my_1st_strategy.strategy_stakes_and_payoffs.head()"
   ]
  },
  {
   "cell_type": "code",
   "execution_count": null,
   "metadata": {},
   "outputs": [],
   "source": [
    "my_2nd_strategy.calculate_strategy_stakes_and_payoffs_for_multiple_races(runners)\n",
    "my_2nd_strategy.strategy_stakes_and_payoffs.head()"
   ]
  },
  {
   "cell_type": "code",
   "execution_count": null,
   "metadata": {},
   "outputs": [],
   "source": [
    "my_3rd_strategy.calculate_strategy_stakes_and_payoffs_for_multiple_races(runners)\n",
    "my_3rd_strategy.strategy_stakes_and_payoffs.head()"
   ]
  },
  {
   "cell_type": "code",
   "execution_count": null,
   "metadata": {},
   "outputs": [],
   "source": [
    "my_4th_strategy.calculate_strategy_stakes_and_payoffs_for_multiple_races(runners)\n",
    "my_4th_strategy.strategy_stakes_and_payoffs.head()"
   ]
  },
  {
   "cell_type": "code",
   "execution_count": null,
   "metadata": {},
   "outputs": [],
   "source": [
    "my_5th_strategy.calculate_strategy_stakes_and_payoffs_for_multiple_races(runners)\n",
    "my_5th_strategy.strategy_stakes_and_payoffs.head()"
   ]
  },
  {
   "attachments": {},
   "cell_type": "markdown",
   "metadata": {},
   "source": [
    "# Demonstrate wagering strategy assessment"
   ]
  },
  {
   "cell_type": "code",
   "execution_count": null,
   "metadata": {},
   "outputs": [],
   "source": [
    "my_strategy_assessment = WageringStrategyAssessment([my_1st_strategy, my_2nd_strategy, my_3rd_strategy, my_4th_strategy, my_5th_strategy], runners[['race_id', 'meeting_date', 'runner_id', 'stall_number', 'win', 'adj_mkt_prob']])\n",
    "display(my_strategy_assessment.assessment)\n",
    "my_strategy_assessment.perform_assessment()"
   ]
  },
  {
   "cell_type": "code",
   "execution_count": null,
   "metadata": {},
   "outputs": [],
   "source": [
    "my_strategy_assessment.plot_cumulative_return()"
   ]
  }
 ],
 "metadata": {
  "kernelspec": {
   "display_name": "Python 3.10.7 64-bit (microsoft store)",
   "language": "python",
   "name": "python3"
  },
  "language_info": {
   "codemirror_mode": {
    "name": "ipython",
    "version": 3
   },
   "file_extension": ".py",
   "mimetype": "text/x-python",
   "name": "python",
   "nbconvert_exporter": "python",
   "pygments_lexer": "ipython3",
   "version": "3.11.2"
  },
  "vscode": {
   "interpreter": {
    "hash": "a9f4e47998c6ee8b77b441c837eaec8bc6ca8d0b7b1914a4e9c37a873e1d8387"
   }
  }
 },
 "nbformat": 4,
 "nbformat_minor": 2
}
